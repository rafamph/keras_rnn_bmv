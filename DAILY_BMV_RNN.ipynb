{
 "cells": [
  {
   "cell_type": "code",
   "execution_count": 9,
   "metadata": {},
   "outputs": [],
   "source": [
    "import numpy as np\n",
    "import tensorflow as tf\n",
    "import matplotlib.pyplot as plt\n",
    "import os\n",
    "import pandas as pd\n",
    "%matplotlib inline"
   ]
  },
  {
   "cell_type": "code",
   "execution_count": 225,
   "metadata": {},
   "outputs": [],
   "source": [
    "def clean_data(path = \"/home/raflicky/Desktop/BMV_DATA\"):\n",
    "    files = (os.listdir(path))\n",
    "    merged_list = []\n",
    "    for file in files:\n",
    "        stock_price = pd.read_csv(path + \"/\" + file)\n",
    "        if stock_price.shape == (1257,7):\n",
    "            stock_price = stock_price.drop(['Date', 'Open', 'High', 'Low', 'Vol.', 'Change %'], axis=1)\n",
    "            merged_list.append(stock_price)\n",
    "    df = pd.concat(merged_list, axis = 1)\n",
    "    return df"
   ]
  },
  {
   "cell_type": "code",
   "execution_count": 226,
   "metadata": {},
   "outputs": [],
   "source": [
    "import random\n",
    "def next_batch(dataframe, dataframe2, batch_size, features):\n",
    "    df_size = len(dataframe)\n",
    "    sample = batch_size / df_size\n",
    "    upper_bound = int(sample * 100)\n",
    "    random_point = random.randint(1,100-upper_bound)\n",
    "    starting_point = int(df_size * (random_point/100))\n",
    "    ending_point = starting_point + batch_size\n",
    "    \n",
    "    data = dataframe.values\n",
    "    data = data[starting_point-1:ending_point-1]\n",
    "    data2 = dataframe2.values\n",
    "    data2 = data2[starting_point-1:ending_point-1]\n",
    "\n",
    "    X = data[:-1].reshape(batch_size-1,1,features)\n",
    "    Y = data2[1:].reshape(batch_size-1)\n",
    "        \n",
    "    return X, Y"
   ]
  },
  {
   "cell_type": "code",
   "execution_count": 227,
   "metadata": {},
   "outputs": [],
   "source": [
    "my_data = clean_data(\"/home/raflicky/Desktop/BMV_DATA\")\n",
    "my_data2 = clean_data(\"/home/raflicky/Desktop/IPC_DATA\")"
   ]
  },
  {
   "cell_type": "code",
   "execution_count": 228,
   "metadata": {},
   "outputs": [],
   "source": [
    "trainingX, trainingY = next_batch(my_data, my_data2, 900, 22)\n",
    "testingX, testingY = next_batch(my_data, my_data2, 100, 22)"
   ]
  },
  {
   "cell_type": "code",
   "execution_count": 230,
   "metadata": {},
   "outputs": [],
   "source": [
    "import pandas as pd\n",
    "from numpy import concatenate\n",
    "from matplotlib import pyplot\n",
    "from pandas import read_csv\n",
    "from pandas import DataFrame\n",
    "from pandas import concat\n",
    "from sklearn.preprocessing import MinMaxScaler\n",
    "from sklearn.preprocessing import LabelEncoder\n",
    "from sklearn.metrics import mean_squared_error\n",
    "from keras.models import Sequential\n",
    "from keras.layers import Dense\n",
    "from keras.layers import LSTM\n",
    "from keras.layers import Flatten\n",
    "from keras import backend as K; K.set_session(K.tf.Session(config=K.tf.ConfigProto(intra_op_parallelism_threads=32, inter_op_parallelism_threads=32)))"
   ]
  },
  {
   "cell_type": "code",
   "execution_count": 237,
   "metadata": {},
   "outputs": [],
   "source": [
    "# design network\n",
    "model = Sequential()\n",
    "model.add(LSTM(1000, input_shape=(trainingX.shape[1], trainingX.shape[2])))\n",
    "model.add(Dense(1))"
   ]
  },
  {
   "cell_type": "code",
   "execution_count": 238,
   "metadata": {},
   "outputs": [
    {
     "name": "stdout",
     "output_type": "stream",
     "text": [
      "Train on 899 samples, validate on 99 samples\n",
      "Epoch 1/7\n",
      " - 7s - loss: 45121.1317 - val_loss: 41252.6533\n",
      "Epoch 2/7\n",
      " - 6s - loss: 45108.3669 - val_loss: 41240.6578\n",
      "Epoch 3/7\n",
      " - 6s - loss: 45096.5494 - val_loss: 41229.0625\n",
      "Epoch 4/7\n",
      " - 6s - loss: 45084.9894 - val_loss: 41217.6063\n",
      "Epoch 5/7\n",
      " - 6s - loss: 45073.5295 - val_loss: 41206.2212\n",
      "Epoch 6/7\n",
      " - 6s - loss: 45062.1226 - val_loss: 41194.8752\n",
      "Epoch 7/7\n",
      " - 6s - loss: 45050.7473 - val_loss: 41183.5565\n"
     ]
    },
    {
     "data": {
      "image/png": "[encoded data removed]",
      "text/plain": [
       "<matplotlib.figure.Figure at 0x7fce5c6628d0>"
      ]
     },
     "metadata": {},
     "output_type": "display_data"
    }
   ],
   "source": [
    "#model.add(Dense(50,activation='softmax'))\n",
    "model.compile(loss='mae', optimizer='adam')\n",
    "# fit network\n",
    "history = model.fit(trainingX, trainingY, epochs=7, batch_size=20, validation_data=(testingX, testingY), verbose=2, shuffle=False)\n",
    "# plot history\n",
    "pyplot.plot(history.history['loss'], label='train')\n",
    "pyplot.plot(history.history['val_loss'], label='test')\n",
    "pyplot.legend()\n",
    "pyplot.show()"
   ]
  },
  {
   "cell_type": "code",
   "execution_count": null,
   "metadata": {},
   "outputs": [],
   "source": []
  }
 ],
 "metadata": {
  "kernelspec": {
   "display_name": "Python 3",
   "language": "python",
   "name": "python3"
  },
  "language_info": {
   "codemirror_mode": {
    "name": "ipython",
    "version": 3
   },
   "file_extension": ".py",
   "mimetype": "text/x-python",
   "name": "python",
   "nbconvert_exporter": "python",
   "pygments_lexer": "ipython3",
   "version": "3.6.4"
  }
 },
 "nbformat": 4,
 "nbformat_minor": 2
}
